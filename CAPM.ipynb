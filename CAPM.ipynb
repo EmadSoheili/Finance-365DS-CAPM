{
 "cells": [
  {
   "cell_type": "code",
   "execution_count": 17,
   "metadata": {
    "collapsed": true
   },
   "outputs": [],
   "source": [
    "import numpy as np\n",
    "import pandas as pd\n",
    "from pandas_datareader import data as wb"
   ]
  },
  {
   "cell_type": "code",
   "execution_count": 18,
   "outputs": [
    {
     "data": {
      "text/plain": "                   PG        ^GSPC\nDate                              \n2012-11-01  51.651230  1427.589966\n2012-11-02  51.606499  1414.199951\n2012-11-05  51.218643  1417.260010\n2012-11-06  51.412567  1428.390015\n2012-11-07  50.763657  1394.530029\n...               ...          ...\n2016-10-25  73.598602  2143.159912\n2016-10-26  73.962509  2139.429932\n2016-10-27  73.268578  2133.040039\n2016-10-28  73.488594  2126.409912\n2016-10-31  73.454750  2126.149902\n\n[1007 rows x 2 columns]",
      "text/html": "<div>\n<style scoped>\n    .dataframe tbody tr th:only-of-type {\n        vertical-align: middle;\n    }\n\n    .dataframe tbody tr th {\n        vertical-align: top;\n    }\n\n    .dataframe thead th {\n        text-align: right;\n    }\n</style>\n<table border=\"1\" class=\"dataframe\">\n  <thead>\n    <tr style=\"text-align: right;\">\n      <th></th>\n      <th>PG</th>\n      <th>^GSPC</th>\n    </tr>\n    <tr>\n      <th>Date</th>\n      <th></th>\n      <th></th>\n    </tr>\n  </thead>\n  <tbody>\n    <tr>\n      <th>2012-11-01</th>\n      <td>51.651230</td>\n      <td>1427.589966</td>\n    </tr>\n    <tr>\n      <th>2012-11-02</th>\n      <td>51.606499</td>\n      <td>1414.199951</td>\n    </tr>\n    <tr>\n      <th>2012-11-05</th>\n      <td>51.218643</td>\n      <td>1417.260010</td>\n    </tr>\n    <tr>\n      <th>2012-11-06</th>\n      <td>51.412567</td>\n      <td>1428.390015</td>\n    </tr>\n    <tr>\n      <th>2012-11-07</th>\n      <td>50.763657</td>\n      <td>1394.530029</td>\n    </tr>\n    <tr>\n      <th>...</th>\n      <td>...</td>\n      <td>...</td>\n    </tr>\n    <tr>\n      <th>2016-10-25</th>\n      <td>73.598602</td>\n      <td>2143.159912</td>\n    </tr>\n    <tr>\n      <th>2016-10-26</th>\n      <td>73.962509</td>\n      <td>2139.429932</td>\n    </tr>\n    <tr>\n      <th>2016-10-27</th>\n      <td>73.268578</td>\n      <td>2133.040039</td>\n    </tr>\n    <tr>\n      <th>2016-10-28</th>\n      <td>73.488594</td>\n      <td>2126.409912</td>\n    </tr>\n    <tr>\n      <th>2016-10-31</th>\n      <td>73.454750</td>\n      <td>2126.149902</td>\n    </tr>\n  </tbody>\n</table>\n<p>1007 rows × 2 columns</p>\n</div>"
     },
     "execution_count": 18,
     "metadata": {},
     "output_type": "execute_result"
    }
   ],
   "source": [
    "tickers = ['PG', '^GSPC']\n",
    "data = pd.DataFrame()\n",
    "\n",
    "for i in tickers:\n",
    "    data[i] = wb.DataReader(i, data_source='yahoo', start='2012-11-1', end='2016-10-31')['Adj Close']\n",
    "\n",
    "data"
   ],
   "metadata": {
    "collapsed": false
   }
  },
  {
   "cell_type": "code",
   "execution_count": 19,
   "outputs": [],
   "source": [
    "log_return = np.log(data/data.shift(1))"
   ],
   "metadata": {
    "collapsed": false
   }
  },
  {
   "cell_type": "code",
   "execution_count": 20,
   "outputs": [
    {
     "data": {
      "text/plain": "             PG     ^GSPC\nPG     0.020910  0.010974\n^GSPC  0.010974  0.016853",
      "text/html": "<div>\n<style scoped>\n    .dataframe tbody tr th:only-of-type {\n        vertical-align: middle;\n    }\n\n    .dataframe tbody tr th {\n        vertical-align: top;\n    }\n\n    .dataframe thead th {\n        text-align: right;\n    }\n</style>\n<table border=\"1\" class=\"dataframe\">\n  <thead>\n    <tr style=\"text-align: right;\">\n      <th></th>\n      <th>PG</th>\n      <th>^GSPC</th>\n    </tr>\n  </thead>\n  <tbody>\n    <tr>\n      <th>PG</th>\n      <td>0.020910</td>\n      <td>0.010974</td>\n    </tr>\n    <tr>\n      <th>^GSPC</th>\n      <td>0.010974</td>\n      <td>0.016853</td>\n    </tr>\n  </tbody>\n</table>\n</div>"
     },
     "execution_count": 20,
     "metadata": {},
     "output_type": "execute_result"
    }
   ],
   "source": [
    "cov = log_return.cov()*250\n",
    "cov"
   ],
   "metadata": {
    "collapsed": false
   }
  },
  {
   "cell_type": "code",
   "execution_count": 21,
   "outputs": [
    {
     "data": {
      "text/plain": "0.010973805852475147"
     },
     "execution_count": 21,
     "metadata": {},
     "output_type": "execute_result"
    }
   ],
   "source": [
    "cov_with_market = cov.iloc[0,1]\n",
    "cov_with_market"
   ],
   "metadata": {
    "collapsed": false
   }
  },
  {
   "cell_type": "code",
   "execution_count": 22,
   "outputs": [
    {
     "data": {
      "text/plain": "0.016852952389674145"
     },
     "execution_count": 22,
     "metadata": {},
     "output_type": "execute_result"
    }
   ],
   "source": [
    "market_var = log_return['^GSPC'].var()*250\n",
    "market_var"
   ],
   "metadata": {
    "collapsed": false
   }
  },
  {
   "cell_type": "code",
   "execution_count": 23,
   "outputs": [
    {
     "data": {
      "text/plain": "0.6511503503207445"
     },
     "execution_count": 23,
     "metadata": {},
     "output_type": "execute_result"
    }
   ],
   "source": [
    "# Beta\n",
    "PG_beta = cov_with_market/market_var\n",
    "PG_beta"
   ],
   "metadata": {
    "collapsed": false
   }
  },
  {
   "cell_type": "code",
   "execution_count": 25,
   "outputs": [],
   "source": [
    "# 0 < beta < 1 ---> PG is Defensive Stock"
   ],
   "metadata": {
    "collapsed": false
   }
  },
  {
   "cell_type": "code",
   "execution_count": 31,
   "outputs": [
    {
     "name": "stdout",
     "output_type": "stream",
     "text": [
      "Expected return of the PG: 7.46%\n"
     ]
    }
   ],
   "source": [
    "# CAPM\n",
    "# 0.0381 can be found with searching \"US risk-free rate Bloomberg\" and looking for 10-year government bond yield\n",
    "#0.056 can be found by searching \"Equity risk premium 2022\"\n",
    "PG_er = 0.0381 + PG_beta*0.056\n",
    "print(f'Expected return of the PG: {round(PG_er*100,2)}%')"
   ],
   "metadata": {
    "collapsed": false
   }
  },
  {
   "cell_type": "code",
   "execution_count": 35,
   "outputs": [
    {
     "name": "stdout",
     "output_type": "stream",
     "text": [
      "Sharpe ratio for PG: 25.22%\n"
     ]
    }
   ],
   "source": [
    "# Sharpe ratio\n",
    "sharpe = (PG_er - 0.0381) / (log_return['PG'].std()*250**0.5)\n",
    "print(f'Sharpe ratio for PG: {round(sharpe*100,2)}%')"
   ],
   "metadata": {
    "collapsed": false
   }
  }
 ],
 "metadata": {
  "kernelspec": {
   "display_name": "Python 3",
   "language": "python",
   "name": "python3"
  },
  "language_info": {
   "codemirror_mode": {
    "name": "ipython",
    "version": 2
   },
   "file_extension": ".py",
   "mimetype": "text/x-python",
   "name": "python",
   "nbconvert_exporter": "python",
   "pygments_lexer": "ipython2",
   "version": "2.7.6"
  }
 },
 "nbformat": 4,
 "nbformat_minor": 0
}
